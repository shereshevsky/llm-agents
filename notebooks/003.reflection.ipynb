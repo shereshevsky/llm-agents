{
 "cells": [
  {
   "cell_type": "code",
   "execution_count": 1,
   "id": "initial_id",
   "metadata": {
    "collapsed": true,
    "ExecuteTime": {
     "end_time": "2024-09-02T08:01:48.672909Z",
     "start_time": "2024-09-02T08:01:48.659964Z"
    }
   },
   "outputs": [
    {
     "data": {
      "text/plain": "True"
     },
     "execution_count": 1,
     "metadata": {},
     "output_type": "execute_result"
    }
   ],
   "source": [
    "import dotenv\n",
    "dotenv.load_dotenv()"
   ]
  },
  {
   "cell_type": "code",
   "outputs": [],
   "source": [
    "llm_config={\"model\": \"gpt-3.5-turbo\"}"
   ],
   "metadata": {
    "collapsed": false,
    "ExecuteTime": {
     "end_time": "2024-09-02T08:01:53.192455Z",
     "start_time": "2024-09-02T08:01:53.189169Z"
    }
   },
   "id": "edd62f1d56251ec5",
   "execution_count": 2
  },
  {
   "cell_type": "code",
   "outputs": [],
   "source": [
    "task = '''\n",
    "        Write a concise but engaging blogpost about\n",
    "       DeepLearning.AI. Make sure the blogpost is\n",
    "       within 100 words.\n",
    "       '''\n"
   ],
   "metadata": {
    "collapsed": false,
    "ExecuteTime": {
     "end_time": "2024-09-02T08:01:56.659985Z",
     "start_time": "2024-09-02T08:01:56.657281Z"
    }
   },
   "id": "986654f7cca4dee7",
   "execution_count": 3
  },
  {
   "cell_type": "code",
   "outputs": [],
   "source": [
    "import autogen\n",
    "\n",
    "writer = autogen.AssistantAgent(\n",
    "    name=\"Writer\",\n",
    "    system_message=\"You are a writer. You write engaging and concise \" \n",
    "        \"blogpost (with title) on given topics. You must polish your \"\n",
    "        \"writing based on the feedback you receive and give a refined \"\n",
    "        \"version. Only return your final work without additional comments.\",\n",
    "    llm_config=llm_config,\n",
    ")"
   ],
   "metadata": {
    "collapsed": false,
    "ExecuteTime": {
     "end_time": "2024-09-02T08:02:00.781729Z",
     "start_time": "2024-09-02T08:02:00.169023Z"
    }
   },
   "id": "adcde38788f41e1e",
   "execution_count": 4
  },
  {
   "cell_type": "code",
   "outputs": [],
   "source": [
    "reply = writer.generate_reply(messages=[{\"content\": task, \"role\": \"user\"}])"
   ],
   "metadata": {
    "collapsed": false,
    "ExecuteTime": {
     "end_time": "2024-09-02T08:02:08.469592Z",
     "start_time": "2024-09-02T08:02:06.126854Z"
    }
   },
   "id": "a4d04dade6319af9",
   "execution_count": 5
  },
  {
   "cell_type": "code",
   "outputs": [
    {
     "name": "stdout",
     "output_type": "stream",
     "text": [
      "Title: Unleashing the Power of DeepLearning.AI\n",
      "\n",
      "Dive into the world of AI with DeepLearning.AI! Founded by the renowned Andrew Ng, this platform offers top-notch courses on deep learning, neural networks, and machine learning. Whether you're a beginner or an advanced learner, there's something for everyone. With hands-on projects and expert-led videos, you'll sharpen your AI skills and stay ahead in the tech game. Join the community of learners globally, and unlock exciting opportunities in artificial intelligence. Embrace the future with DeepLearning.AI as your guide! Start your AI journey today.\n"
     ]
    }
   ],
   "source": [
    "print(reply)"
   ],
   "metadata": {
    "collapsed": false,
    "ExecuteTime": {
     "end_time": "2024-09-02T08:02:11.187088Z",
     "start_time": "2024-09-02T08:02:11.184436Z"
    }
   },
   "id": "f72aea5e72ca3bd3",
   "execution_count": 6
  },
  {
   "cell_type": "markdown",
   "source": [
    "#### Reflection"
   ],
   "metadata": {
    "collapsed": false
   },
   "id": "e976d42db4bec961"
  },
  {
   "cell_type": "code",
   "outputs": [],
   "source": [
    "critic = autogen.AssistantAgent(\n",
    "    name=\"Critic\",\n",
    "    is_termination_msg=lambda x: x.get(\"content\", \"\").find(\"TERMINATE\") >= 0,\n",
    "    llm_config=llm_config,\n",
    "    system_message=\"You are a critic. You review the work of \"\n",
    "                \"the writer and provide constructive \"\n",
    "                \"feedback to help improve the quality of the content.\",\n",
    ")"
   ],
   "metadata": {
    "collapsed": false,
    "ExecuteTime": {
     "end_time": "2024-09-02T08:02:36.998123Z",
     "start_time": "2024-09-02T08:02:36.975269Z"
    }
   },
   "id": "eba7052d72b9552e",
   "execution_count": 7
  },
  {
   "cell_type": "code",
   "outputs": [
    {
     "name": "stdout",
     "output_type": "stream",
     "text": [
      "\u001B[33mCritic\u001B[0m (to Writer):\n",
      "\n",
      "\n",
      "        Write a concise but engaging blogpost about\n",
      "       DeepLearning.AI. Make sure the blogpost is\n",
      "       within 100 words.\n",
      "       \n",
      "\n",
      "--------------------------------------------------------------------------------\n",
      "\u001B[33mWriter\u001B[0m (to Critic):\n",
      "\n",
      "Title: Unleashing the Power of DeepLearning.AI\n",
      "\n",
      "Dive into the world of AI with DeepLearning.AI! Founded by the renowned Andrew Ng, this platform offers top-notch courses on deep learning, neural networks, and machine learning. Whether you're a beginner or an advanced learner, there's something for everyone. With hands-on projects and expert-led videos, you'll sharpen your AI skills and stay ahead in the tech game. Join the community of learners globally, and unlock exciting opportunities in artificial intelligence. Embrace the future with DeepLearning.AI as your guide! Start your AI journey today.\n",
      "\n",
      "--------------------------------------------------------------------------------\n",
      "\u001B[33mCritic\u001B[0m (to Writer):\n",
      "\n",
      "This blogpost does a great job of capturing the essence of DeepLearning.AI in a concise and engaging manner. The title is catchy and sets the tone for the content that follows. The mention of Andrew Ng adds credibility to the platform. \n",
      "\n",
      "One suggestion for improvement would be to provide specific examples of the hands-on projects and expert-led videos available on the platform. This would give readers a better idea of what to expect and entice them to try out the courses. Additionally, including a call-to-action at the end to encourage readers to take the first step toward starting their AI journey could further enhance the post. \n",
      "\n",
      "Overall, the blogpost effectively highlights the key features of DeepLearning.AI and successfully conveys its value to potential learners.\n",
      "\n",
      "--------------------------------------------------------------------------------\n",
      "\u001B[33mWriter\u001B[0m (to Critic):\n",
      "\n",
      "Title: Unleashing the Power of DeepLearning.AI\n",
      "\n",
      "Dive into the world of AI with DeepLearning.AI! Founded by the renowned Andrew Ng, this platform offers top-notch courses on deep learning, neural networks, and machine learning. Whether you're a beginner or an advanced learner, there's something for everyone. From creating sentiment analysis models to building image recognition systems, the hands-on projects and expert-led videos will elevate your AI skills. Join the global community, unlock opportunities, and shape the future of technology with DeepLearning.AI as your guide! Take the first step in your AI journey today.\n",
      "\n",
      "--------------------------------------------------------------------------------\n"
     ]
    }
   ],
   "source": [
    "res = critic.initiate_chat(\n",
    "    recipient=writer,\n",
    "    message=task,\n",
    "    max_turns=2,\n",
    "    summary_method=\"last_msg\"\n",
    ")"
   ],
   "metadata": {
    "collapsed": false,
    "ExecuteTime": {
     "end_time": "2024-09-02T08:02:44.847818Z",
     "start_time": "2024-09-02T08:02:40.571270Z"
    }
   },
   "id": "1445b3a272c22edb",
   "execution_count": 8
  },
  {
   "cell_type": "markdown",
   "source": [
    "#### Nested chat"
   ],
   "metadata": {
    "collapsed": false
   },
   "id": "72f5e440ce6e8267"
  },
  {
   "cell_type": "code",
   "outputs": [],
   "source": [
    "SEO_reviewer = autogen.AssistantAgent(\n",
    "    name=\"SEO Reviewer\",\n",
    "    llm_config=llm_config,\n",
    "    system_message=\"You are an SEO reviewer, known for \"\n",
    "        \"your ability to optimize content for search engines, \"\n",
    "        \"ensuring that it ranks well and attracts organic traffic. \" \n",
    "        \"Make sure your suggestion is concise (within 3 bullet points), \"\n",
    "        \"concrete and to the point. \"\n",
    "        \"Begin the review by stating your role.\",\n",
    ")\n"
   ],
   "metadata": {
    "collapsed": false,
    "ExecuteTime": {
     "end_time": "2024-09-02T08:03:05.522301Z",
     "start_time": "2024-09-02T08:03:05.503453Z"
    }
   },
   "id": "48f3a6f26b47d2b4",
   "execution_count": 10
  },
  {
   "cell_type": "code",
   "outputs": [],
   "source": [
    "legal_reviewer = autogen.AssistantAgent(\n",
    "    name=\"Legal Reviewer\",\n",
    "    llm_config=llm_config,\n",
    "    system_message=\"You are a legal reviewer, known for \"\n",
    "        \"your ability to ensure that content is legally compliant \"\n",
    "        \"and free from any potential legal issues. \"\n",
    "        \"Make sure your suggestion is concise (within 3 bullet points), \"\n",
    "        \"concrete and to the point. \"\n",
    "        \"Begin the review by stating your role.\",\n",
    ")"
   ],
   "metadata": {
    "collapsed": false,
    "ExecuteTime": {
     "end_time": "2024-09-02T08:03:08.129319Z",
     "start_time": "2024-09-02T08:03:08.109565Z"
    }
   },
   "id": "d5122a36535b303c",
   "execution_count": 11
  },
  {
   "cell_type": "code",
   "outputs": [],
   "source": [
    "ethics_reviewer = autogen.AssistantAgent(\n",
    "    name=\"Ethics Reviewer\",\n",
    "    llm_config=llm_config,\n",
    "    system_message=\"You are an ethics reviewer, known for \"\n",
    "        \"your ability to ensure that content is ethically sound \"\n",
    "        \"and free from any potential ethical issues. \" \n",
    "        \"Make sure your suggestion is concise (within 3 bullet points), \"\n",
    "        \"concrete and to the point. \"\n",
    "        \"Begin the review by stating your role. \",\n",
    ")"
   ],
   "metadata": {
    "collapsed": false,
    "ExecuteTime": {
     "end_time": "2024-09-02T08:03:11.255144Z",
     "start_time": "2024-09-02T08:03:11.236380Z"
    }
   },
   "id": "ccbf782a4dab45a5",
   "execution_count": 12
  },
  {
   "cell_type": "code",
   "outputs": [],
   "source": [
    "meta_reviewer = autogen.AssistantAgent(\n",
    "    name=\"Meta Reviewer\",\n",
    "    llm_config=llm_config,\n",
    "    system_message=\"You are a meta reviewer, you aggregate and review \"\n",
    "    \"the work of other reviewers and give a final suggestion on the content.\",\n",
    ")"
   ],
   "metadata": {
    "collapsed": false,
    "ExecuteTime": {
     "end_time": "2024-09-02T08:03:14.477854Z",
     "start_time": "2024-09-02T08:03:14.459223Z"
    }
   },
   "id": "c822611e9442c610",
   "execution_count": 13
  },
  {
   "cell_type": "markdown",
   "source": [
    "#### Orchestrate the nested chats to solve the task"
   ],
   "metadata": {
    "collapsed": false
   },
   "id": "6598705444cb9b44"
  },
  {
   "cell_type": "code",
   "outputs": [],
   "source": [
    "def reflection_message(recipient, messages, sender, config):\n",
    "    return f'''Review the following content. \n",
    "            \\n\\n {recipient.chat_messages_for_summary(sender)[-1]['content']}'''\n",
    "\n",
    "review_chats = [\n",
    "    {\n",
    "     \"recipient\": SEO_reviewer, \n",
    "     \"message\": reflection_message, \n",
    "     \"summary_method\": \"reflection_with_llm\",\n",
    "     \"summary_args\": {\"summary_prompt\" : \n",
    "        \"Return review into as JSON object only:\"\n",
    "        \"{'Reviewer': '', 'Review': ''}. Here Reviewer should be your role\",},\n",
    "     \"max_turns\": 1},\n",
    "    {\n",
    "    \"recipient\": legal_reviewer, \"message\": reflection_message, \n",
    "     \"summary_method\": \"reflection_with_llm\",\n",
    "     \"summary_args\": {\"summary_prompt\" : \n",
    "        \"Return review into as JSON object only:\"\n",
    "        \"{'Reviewer': '', 'Review': ''}.\",},\n",
    "     \"max_turns\": 1},\n",
    "    {\"recipient\": ethics_reviewer, \"message\": reflection_message, \n",
    "     \"summary_method\": \"reflection_with_llm\",\n",
    "     \"summary_args\": {\"summary_prompt\" : \n",
    "        \"Return review into as JSON object only:\"\n",
    "        \"{'reviewer': '', 'review': ''}\",},\n",
    "     \"max_turns\": 1},\n",
    "     {\"recipient\": meta_reviewer, \n",
    "      \"message\": \"Aggregrate feedback from all reviewers and give final suggestions on the writing.\", \n",
    "     \"max_turns\": 1},\n",
    "]\n"
   ],
   "metadata": {
    "collapsed": false,
    "ExecuteTime": {
     "end_time": "2024-09-02T08:04:19.826520Z",
     "start_time": "2024-09-02T08:04:19.822390Z"
    }
   },
   "id": "bbd463ba6c40a56d",
   "execution_count": 14
  },
  {
   "cell_type": "code",
   "outputs": [],
   "source": [
    "critic.register_nested_chats(\n",
    "    review_chats,\n",
    "    trigger=writer,\n",
    ")"
   ],
   "metadata": {
    "collapsed": false,
    "ExecuteTime": {
     "end_time": "2024-09-02T08:04:23.497968Z",
     "start_time": "2024-09-02T08:04:23.493785Z"
    }
   },
   "id": "d38d3815bc6545b4",
   "execution_count": 15
  },
  {
   "cell_type": "code",
   "outputs": [
    {
     "name": "stdout",
     "output_type": "stream",
     "text": [
      "\u001B[33mCritic\u001B[0m (to Writer):\n",
      "\n",
      "\n",
      "        Write a concise but engaging blogpost about\n",
      "       DeepLearning.AI. Make sure the blogpost is\n",
      "       within 100 words.\n",
      "       \n",
      "\n",
      "--------------------------------------------------------------------------------\n",
      "\u001B[33mWriter\u001B[0m (to Critic):\n",
      "\n",
      "Title: Unleashing the Power of DeepLearning.AI\n",
      "\n",
      "Dive into the world of AI with DeepLearning.AI! Founded by the renowned Andrew Ng, this platform offers top-notch courses on deep learning, neural networks, and machine learning. Whether you're a beginner or an advanced learner, there's something for everyone. With hands-on projects and expert-led videos, you'll sharpen your AI skills and stay ahead in the tech game. Join the community of learners globally, and unlock exciting opportunities in artificial intelligence. Embrace the future with DeepLearning.AI as your guide! Start your AI journey today.\n",
      "\n",
      "--------------------------------------------------------------------------------\n",
      "\u001B[34m\n",
      "********************************************************************************\u001B[0m\n",
      "\u001B[34mStarting a new chat....\u001B[0m\n",
      "\u001B[34m\n",
      "********************************************************************************\u001B[0m\n",
      "\u001B[33mCritic\u001B[0m (to SEO Reviewer):\n",
      "\n",
      "Review the following content. \n",
      "            \n",
      "\n",
      " Title: Unleashing the Power of DeepLearning.AI\n",
      "\n",
      "Dive into the world of AI with DeepLearning.AI! Founded by the renowned Andrew Ng, this platform offers top-notch courses on deep learning, neural networks, and machine learning. Whether you're a beginner or an advanced learner, there's something for everyone. With hands-on projects and expert-led videos, you'll sharpen your AI skills and stay ahead in the tech game. Join the community of learners globally, and unlock exciting opportunities in artificial intelligence. Embrace the future with DeepLearning.AI as your guide! Start your AI journey today.\n",
      "\n",
      "--------------------------------------------------------------------------------\n",
      "\u001B[33mSEO Reviewer\u001B[0m (to Critic):\n",
      "As an SEO reviewer:\n",
      "\n",
      "1. **Include Target Keywords**: Incorporate relevant keywords like \"DeepLearning.AI courses,\" \"Andrew Ng deep learning,\" or \"AI learning platform\" to improve search visibility.\n",
      "   \n",
      "2. **Meta Tags Optimization**: Enhance meta title and description to be concise, compelling, and keyword-rich, increasing the chances of appearing in search results.\n",
      "\n",
      "3. **Call-to-Action (CTA)**: Integrate a clear CTA inviting users to enroll, such as \"Join DeepLearning.AI today and enhance your AI skills!\" to drive user engagement and conversions.\n",
      "\n",
      "--------------------------------------------------------------------------------\n",
      "\u001B[34m\n",
      "********************************************************************************\u001B[0m\n",
      "\u001B[34mStarting a new chat....\u001B[0m\n",
      "\u001B[34m\n",
      "********************************************************************************\u001B[0m\n",
      "\u001B[33mCritic\u001B[0m (to Legal Reviewer):\n",
      "\n",
      "Review the following content. \n",
      "            \n",
      "\n",
      " Title: Unleashing the Power of DeepLearning.AI\n",
      "\n",
      "Dive into the world of AI with DeepLearning.AI! Founded by the renowned Andrew Ng, this platform offers top-notch courses on deep learning, neural networks, and machine learning. Whether you're a beginner or an advanced learner, there's something for everyone. With hands-on projects and expert-led videos, you'll sharpen your AI skills and stay ahead in the tech game. Join the community of learners globally, and unlock exciting opportunities in artificial intelligence. Embrace the future with DeepLearning.AI as your guide! Start your AI journey today.\n",
      "Context: \n",
      "{'Reviewer': 'SEO Analyst', 'Review': 'Make sure to include target keywords, optimize meta tags, and incorporate a clear call-to-action to enhance search visibility and user engagement.'}\n",
      "\n",
      "--------------------------------------------------------------------------------\n",
      "\u001B[33mLegal Reviewer\u001B[0m (to Critic):\n",
      "\n",
      "As a Legal Reviewer:\n",
      "\n",
      "- Ensure all claims made about the courses and platform are accurate and substantiated to avoid any potential false advertising issues.\n",
      "- Obtain necessary permissions for any references to Andrew Ng or DeepLearning.AI to avoid potential copyright or trademark infringement.\n",
      "- Include a disclaimer regarding the results that learners may achieve to mitigate any potential liability issues.\n",
      "\n",
      "--------------------------------------------------------------------------------\n",
      "\u001B[34m\n",
      "********************************************************************************\u001B[0m\n",
      "\u001B[34mStarting a new chat....\u001B[0m\n",
      "\u001B[34m\n",
      "********************************************************************************\u001B[0m\n",
      "\u001B[33mCritic\u001B[0m (to Ethics Reviewer):\n",
      "\n",
      "Review the following content. \n",
      "            \n",
      "\n",
      " Title: Unleashing the Power of DeepLearning.AI\n",
      "\n",
      "Dive into the world of AI with DeepLearning.AI! Founded by the renowned Andrew Ng, this platform offers top-notch courses on deep learning, neural networks, and machine learning. Whether you're a beginner or an advanced learner, there's something for everyone. With hands-on projects and expert-led videos, you'll sharpen your AI skills and stay ahead in the tech game. Join the community of learners globally, and unlock exciting opportunities in artificial intelligence. Embrace the future with DeepLearning.AI as your guide! Start your AI journey today.\n",
      "Context: \n",
      "{'Reviewer': 'SEO Analyst', 'Review': 'Make sure to include target keywords, optimize meta tags, and incorporate a clear call-to-action to enhance search visibility and user engagement.'}\n",
      "{'Reviewer': 'SEO Analyst', 'Review': 'Make sure to include target keywords, optimize meta tags, and incorporate a clear call-to-action to enhance search visibility and user engagement.'}\n",
      "\n",
      "--------------------------------------------------------------------------------\n",
      "\u001B[33mEthics Reviewer\u001B[0m (to Critic):\n",
      "\n",
      "As an ethics reviewer, I suggest the following for the content:\n",
      "\n",
      "1. Ensure transparency about the fees associated with the courses offered by DeepLearning.AI to avoid any misleading information or hidden costs.\n",
      "2. Clearly disclose the use of any personal data collected from learners on the platform and provide information on how it is stored and protected to maintain privacy and data security.\n",
      "3. Avoid making exaggerated claims about the potential career benefits or guaranteed outcomes of completing the courses, to set realistic expectations for learners and prevent misinformation.\n",
      "\n",
      "--------------------------------------------------------------------------------\n",
      "\u001B[34m\n",
      "********************************************************************************\u001B[0m\n",
      "\u001B[34mStarting a new chat....\u001B[0m\n",
      "\u001B[34m\n",
      "********************************************************************************\u001B[0m\n",
      "\u001B[33mCritic\u001B[0m (to Meta Reviewer):\n",
      "\n",
      "Aggregrate feedback from all reviewers and give final suggestions on the writing.\n",
      "Context: \n",
      "{'Reviewer': 'SEO Analyst', 'Review': 'Make sure to include target keywords, optimize meta tags, and incorporate a clear call-to-action to enhance search visibility and user engagement.'}\n",
      "{'Reviewer': 'SEO Analyst', 'Review': 'Make sure to include target keywords, optimize meta tags, and incorporate a clear call-to-action to enhance search visibility and user engagement.'}\n",
      "{'reviewer': 'Ethics Reviewer', 'review': 'Ensure transparency about fees, disclose use of personal data, and avoid exaggerated career claims.'}\n",
      "\n",
      "--------------------------------------------------------------------------------\n",
      "\u001B[33mMeta Reviewer\u001B[0m (to Critic):\n",
      "\n",
      "Aggregated Feedback:\n",
      "- Include target keywords, optimize meta tags, and incorporate a clear call-to-action for enhanced search visibility and user engagement.\n",
      "- Ensure transparency about fees, disclose the use of personal data, and avoid exaggerated career claims.\n",
      "\n",
      "Final Suggestions:\n",
      "Based on the feedback provided, it is recommended to focus on optimizing the content for search visibility by including relevant keywords and meta tags, and incorporating a clear call-to-action. Additionally, prioritizing transparency regarding fees, personal data usage, and avoiding exaggerated career claims will enhance credibility. Overall, ensuring a balance between SEO optimization and ethical considerations will result in a well-rounded and effective piece of writing.\n",
      "\n",
      "--------------------------------------------------------------------------------\n",
      "\u001B[33mCritic\u001B[0m (to Writer):\n",
      "\n",
      "Aggregated Feedback:\n",
      "- Include target keywords, optimize meta tags, and incorporate a clear call-to-action for enhanced search visibility and user engagement.\n",
      "- Ensure transparency about fees, disclose the use of personal data, and avoid exaggerated career claims.\n",
      "\n",
      "Final Suggestions:\n",
      "Based on the feedback provided, it is recommended to focus on optimizing the content for search visibility by including relevant keywords and meta tags, and incorporating a clear call-to-action. Additionally, prioritizing transparency regarding fees, personal data usage, and avoiding exaggerated career claims will enhance credibility. Overall, ensuring a balance between SEO optimization and ethical considerations will result in a well-rounded and effective piece of writing.\n",
      "\n",
      "--------------------------------------------------------------------------------\n",
      "\u001B[33mWriter\u001B[0m (to Critic):\n",
      "\n",
      "Title: Empower Your AI Journey with DeepLearning.AI\n",
      "\n",
      "Embark on your AI odyssey with DeepLearning.AI by Andrew Ng! Explore cutting-edge courses in deep learning, neural networks, and machine learning, tailored for all skill levels. From hands-on projects to expert-led videos, elevate your AI proficiency and lead the tech wave. Join a global community of learners to unlock doors to exciting AI opportunities. Transparent pricing and data usage ensure a trustworthy experience. Begin shaping your AI future today with DeepLearning.AI. Optimize your learning path and dive into the world of artificial intelligence!\n",
      "\n",
      "--------------------------------------------------------------------------------\n"
     ]
    }
   ],
   "source": [
    "res = critic.initiate_chat(\n",
    "    recipient=writer,\n",
    "    message=task,\n",
    "    max_turns=2,\n",
    "    summary_method=\"last_msg\"\n",
    ")"
   ],
   "metadata": {
    "collapsed": false,
    "ExecuteTime": {
     "end_time": "2024-09-02T08:04:40.916588Z",
     "start_time": "2024-09-02T08:04:28.562191Z"
    }
   },
   "id": "268cf968358266e9",
   "execution_count": 16
  },
  {
   "cell_type": "code",
   "outputs": [
    {
     "name": "stdout",
     "output_type": "stream",
     "text": [
      "Title: Empower Your AI Journey with DeepLearning.AI\n",
      "\n",
      "Embark on your AI odyssey with DeepLearning.AI by Andrew Ng! Explore cutting-edge courses in deep learning, neural networks, and machine learning, tailored for all skill levels. From hands-on projects to expert-led videos, elevate your AI proficiency and lead the tech wave. Join a global community of learners to unlock doors to exciting AI opportunities. Transparent pricing and data usage ensure a trustworthy experience. Begin shaping your AI future today with DeepLearning.AI. Optimize your learning path and dive into the world of artificial intelligence!\n"
     ]
    }
   ],
   "source": [
    "print(res.summary)"
   ],
   "metadata": {
    "collapsed": false,
    "ExecuteTime": {
     "end_time": "2024-09-02T08:04:40.923901Z",
     "start_time": "2024-09-02T08:04:40.918059Z"
    }
   },
   "id": "7f1103bf1492b109",
   "execution_count": 17
  },
  {
   "cell_type": "code",
   "outputs": [],
   "source": [],
   "metadata": {
    "collapsed": false
   },
   "id": "6f24764ec747b1c8"
  }
 ],
 "metadata": {
  "kernelspec": {
   "display_name": "Python 3",
   "language": "python",
   "name": "python3"
  },
  "language_info": {
   "codemirror_mode": {
    "name": "ipython",
    "version": 2
   },
   "file_extension": ".py",
   "mimetype": "text/x-python",
   "name": "python",
   "nbconvert_exporter": "python",
   "pygments_lexer": "ipython2",
   "version": "2.7.6"
  }
 },
 "nbformat": 4,
 "nbformat_minor": 5
}
