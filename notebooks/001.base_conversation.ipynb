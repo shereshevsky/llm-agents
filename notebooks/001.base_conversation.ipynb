{
 "cells": [
  {
   "cell_type": "code",
   "execution_count": 2,
   "id": "initial_id",
   "metadata": {
    "collapsed": true,
    "ExecuteTime": {
     "end_time": "2024-09-02T05:44:48.774881Z",
     "start_time": "2024-09-02T05:44:48.768603Z"
    }
   },
   "outputs": [],
   "source": [
    "from dotenv import load_dotenv\n",
    "load_dotenv()"
   ]
  },
  {
   "cell_type": "code",
   "outputs": [],
   "source": [
    "llm_config = {\"model\": \"gpt-3.5-turbo\"}"
   ],
   "metadata": {
    "collapsed": false,
    "ExecuteTime": {
     "end_time": "2024-09-02T05:47:04.226455Z",
     "start_time": "2024-09-02T05:47:04.222223Z"
    }
   },
   "id": "648645900834be0",
   "execution_count": 5
  },
  {
   "cell_type": "code",
   "outputs": [],
   "source": [
    "from autogen import ConversableAgent\n",
    "\n",
    "agent = ConversableAgent(\n",
    "    name=\"chatbot\",\n",
    "    llm_config=llm_config,\n",
    "    human_input_mode=\"NEVER\",\n",
    ")"
   ],
   "metadata": {
    "collapsed": false,
    "ExecuteTime": {
     "end_time": "2024-09-02T05:47:04.651344Z",
     "start_time": "2024-09-02T05:47:04.624114Z"
    }
   },
   "id": "1c95b8736868a212",
   "execution_count": 6
  },
  {
   "cell_type": "code",
   "outputs": [
    {
     "name": "stdout",
     "output_type": "stream",
     "text": [
      "Sure, here's a joke for you: \n",
      "\n",
      "Why was the math book sad?\n",
      "\n",
      "Because it had too many problems.\n"
     ]
    }
   ],
   "source": [
    "reply = agent.generate_reply(\n",
    "    messages=[{\"content\": \"Tell me a joke.\", \"role\": \"user\"}]\n",
    ")\n",
    "print(reply)"
   ],
   "metadata": {
    "collapsed": false,
    "ExecuteTime": {
     "end_time": "2024-09-02T05:47:16.948787Z",
     "start_time": "2024-09-02T05:47:15.736776Z"
    }
   },
   "id": "2c974f1db9e26864",
   "execution_count": 7
  },
  {
   "cell_type": "code",
   "outputs": [
    {
     "name": "stdout",
     "output_type": "stream",
     "text": [
      "Of course! Please provide me with the joke that you would like me to repeat.\n"
     ]
    }
   ],
   "source": [
    "reply = agent.generate_reply(\n",
    "    messages=[{\"content\": \"Repeat the joke.\", \"role\": \"user\"}]\n",
    ")\n",
    "print(reply)"
   ],
   "metadata": {
    "collapsed": false,
    "ExecuteTime": {
     "end_time": "2024-09-02T05:47:36.168971Z",
     "start_time": "2024-09-02T05:47:35.005125Z"
    }
   },
   "id": "3f6265a9913d35fc",
   "execution_count": 8
  },
  {
   "cell_type": "code",
   "outputs": [],
   "source": [
    "cathy = ConversableAgent(\n",
    "    name=\"cathy\",\n",
    "    system_message=\n",
    "    \"Your name is Cathy and you are a stand-up comedian.\",\n",
    "    llm_config=llm_config,\n",
    "    human_input_mode=\"NEVER\",\n",
    ")\n",
    "\n",
    "joe = ConversableAgent(\n",
    "    name=\"joe\",\n",
    "    system_message=\n",
    "    \"\"\"Your name is Joe and you are a stand-up comedian. \n",
    "    Start the next joke from the punchline of the previous joke.\"\"\",\n",
    "    llm_config=llm_config,\n",
    "    human_input_mode=\"NEVER\",\n",
    ")"
   ],
   "metadata": {
    "collapsed": false,
    "ExecuteTime": {
     "end_time": "2024-09-02T05:58:19.682025Z",
     "start_time": "2024-09-02T05:58:19.644279Z"
    }
   },
   "id": "db651d9507885a9f",
   "execution_count": 23
  },
  {
   "cell_type": "code",
   "outputs": [
    {
     "name": "stdout",
     "output_type": "stream",
     "text": [
      "\u001B[33mjoe\u001B[0m (to cathy):\n",
      "\n",
      "I'm Joe. Cathy, let's keep the jokes rolling.\n",
      "\n",
      "--------------------------------------------------------------------------------\n",
      "\u001B[33mcathy\u001B[0m (to joe):\n",
      "\n",
      "Hey Joe, I'm always ready to crack some jokes! So, why did the scarecrow win an award? Because he was outstanding in his field! So Joe, have you heard about the claustrophobic astronaut? He needed a little space!\n",
      "\n",
      "--------------------------------------------------------------------------------\n",
      "\u001B[33mjoe\u001B[0m (to cathy):\n",
      "\n",
      "Well, Cathy, that astronaut definitely had his limitations! You know who else has limitations? My friend who tried to start a dating service for chickens. Unfortunately, it didn't work out because all the hens were looking for a good \"cock-a-doodle-doo\" date!\n",
      "\n",
      "--------------------------------------------------------------------------------\n",
      "\u001B[33mcathy\u001B[0m (to joe):\n",
      "\n",
      "Haha, your friend definitely had a challenging market to crack with those chicken dating services! Maybe he should have focused on matching them based on their favorite egg recipes instead! Speaking of which, have you ever tried to write a joke about paper? It's usually tearable!\n",
      "\n",
      "--------------------------------------------------------------------------------\n"
     ]
    }
   ],
   "source": [
    "chat_result = joe.initiate_chat(\n",
    "    recipient=cathy, \n",
    "    message=\"I'm Joe. Cathy, let's keep the jokes rolling.\",\n",
    "    max_turns=2,\n",
    ")"
   ],
   "metadata": {
    "collapsed": false,
    "ExecuteTime": {
     "end_time": "2024-09-02T05:58:25.794108Z",
     "start_time": "2024-09-02T05:58:21.840767Z"
    }
   },
   "id": "3fa4371f6d3ecce6",
   "execution_count": 24
  },
  {
   "cell_type": "code",
   "outputs": [
    {
     "name": "stdout",
     "output_type": "stream",
     "text": [
      "[{'content': \"I'm Joe. Cathy, let's keep the jokes rolling.\",\n",
      "  'name': 'joe',\n",
      "  'role': 'assistant'},\n",
      " {'content': \"Hey Joe, I'm always ready to crack some jokes! So, why did the \"\n",
      "             'scarecrow win an award? Because he was outstanding in his field! '\n",
      "             'So Joe, have you heard about the claustrophobic astronaut? He '\n",
      "             'needed a little space!',\n",
      "  'name': 'cathy',\n",
      "  'role': 'user'},\n",
      " {'content': 'Why did the tomato turn red? Because it saw the salad dressing! '\n",
      "             \"Speaking of food, have you ever tried eating a clock? It's very \"\n",
      "             'time-consuming!',\n",
      "  'name': 'joe',\n",
      "  'role': 'assistant'},\n",
      " {'content': 'Hey Joe, those were some great food-related jokes! But you know, '\n",
      "             'I tried eating a clock once...it was very time-consuming, '\n",
      "             'indeed! So Joe, what do you call fake spaghetti? An \"impasta\"! '\n",
      "             'And did you hear about the mathematician who’s afraid of '\n",
      "             'negative numbers? He’ll stop at nothing to avoid them!',\n",
      "  'name': 'cathy',\n",
      "  'role': 'user'}]\n"
     ]
    }
   ],
   "source": [
    "import pprint\n",
    "\n",
    "pprint.pprint(chat_result.chat_history)"
   ],
   "metadata": {
    "collapsed": false,
    "ExecuteTime": {
     "end_time": "2024-09-02T05:50:23.950924Z",
     "start_time": "2024-09-02T05:50:23.945046Z"
    }
   },
   "id": "bf458a8427b9412f",
   "execution_count": 11
  },
  {
   "cell_type": "code",
   "outputs": [
    {
     "name": "stdout",
     "output_type": "stream",
     "text": [
      "{'usage_excluding_cached_inference': {'gpt-3.5-turbo-0125': {'completion_tokens': 153,\n",
      "                                                             'cost': 0.00036899999999999997,\n",
      "                                                             'prompt_tokens': 279,\n",
      "                                                             'total_tokens': 432},\n",
      "                                      'total_cost': 0.00036899999999999997},\n",
      " 'usage_including_cached_inference': {'gpt-3.5-turbo-0125': {'completion_tokens': 153,\n",
      "                                                             'cost': 0.00036899999999999997,\n",
      "                                                             'prompt_tokens': 279,\n",
      "                                                             'total_tokens': 432},\n",
      "                                      'total_cost': 0.00036899999999999997}}\n"
     ]
    }
   ],
   "source": [
    "pprint.pprint(chat_result.cost)"
   ],
   "metadata": {
    "collapsed": false,
    "ExecuteTime": {
     "end_time": "2024-09-02T05:50:34.154593Z",
     "start_time": "2024-09-02T05:50:34.151323Z"
    }
   },
   "id": "42ae02fd16bab1fa",
   "execution_count": 12
  },
  {
   "cell_type": "markdown",
   "source": [
    "#### Summary"
   ],
   "metadata": {
    "collapsed": false
   },
   "id": "1f9c2011bfa22c5d"
  },
  {
   "cell_type": "code",
   "outputs": [
    {
     "name": "stdout",
     "output_type": "stream",
     "text": [
      "('Hey Joe, those were some great food-related jokes! But you know, I tried '\n",
      " 'eating a clock once...it was very time-consuming, indeed! So Joe, what do '\n",
      " 'you call fake spaghetti? An \"impasta\"! And did you hear about the '\n",
      " 'mathematician who’s afraid of negative numbers? He’ll stop at nothing to '\n",
      " 'avoid them!')\n"
     ]
    }
   ],
   "source": [
    "pprint.pprint(chat_result.summary)"
   ],
   "metadata": {
    "collapsed": false,
    "ExecuteTime": {
     "end_time": "2024-09-02T05:50:41.874908Z",
     "start_time": "2024-09-02T05:50:41.872227Z"
    }
   },
   "id": "64a926ac561432d3",
   "execution_count": 13
  },
  {
   "cell_type": "code",
   "outputs": [
    {
     "name": "stdout",
     "output_type": "stream",
     "text": [
      "\u001B[33mjoe\u001B[0m (to cathy):\n",
      "\n",
      "I'm Joe. Cathy, let's keep the jokes rolling.\n",
      "\n",
      "--------------------------------------------------------------------------------\n",
      "\u001B[33mcathy\u001B[0m (to joe):\n",
      "\n",
      "Hey Joe, I'm always ready to crack some jokes! So, why did the scarecrow win an award? Because he was outstanding in his field! So Joe, have you heard about the claustrophobic astronaut? He needed a little space!\n",
      "\n",
      "--------------------------------------------------------------------------------\n",
      "\u001B[33mjoe\u001B[0m (to cathy):\n",
      "\n",
      "Why did the tomato turn red? Because it saw the salad dressing! Speaking of food, have you ever tried eating a clock? It's very time-consuming!\n",
      "\n",
      "--------------------------------------------------------------------------------\n",
      "\u001B[33mcathy\u001B[0m (to joe):\n",
      "\n",
      "Hey Joe, those were some great food-related jokes! But you know, I tried eating a clock once...it was very time-consuming, indeed! So Joe, what do you call fake spaghetti? An \"impasta\"! And did you hear about the mathematician who’s afraid of negative numbers? He’ll stop at nothing to avoid them!\n",
      "\n",
      "--------------------------------------------------------------------------------\n"
     ]
    }
   ],
   "source": [
    "chat_result = joe.initiate_chat(\n",
    "    cathy, \n",
    "    message=\"I'm Joe. Cathy, let's keep the jokes rolling.\", \n",
    "    max_turns=2, \n",
    "    summary_method=\"reflection_with_llm\",\n",
    "    summary_prompt=\"Summarize the conversation\",\n",
    ")"
   ],
   "metadata": {
    "collapsed": false,
    "ExecuteTime": {
     "end_time": "2024-09-02T05:51:20.095643Z",
     "start_time": "2024-09-02T05:51:20.070678Z"
    }
   },
   "id": "4402dd59ea944270",
   "execution_count": 16
  },
  {
   "cell_type": "code",
   "outputs": [
    {
     "name": "stdout",
     "output_type": "stream",
     "text": [
      "('Joe and Cathy exchanged food-related jokes with puns and wordplay, keeping '\n",
      " 'the humor rolling with playful banter and laughter.')\n"
     ]
    }
   ],
   "source": [
    "pprint.pprint(chat_result.summary)"
   ],
   "metadata": {
    "collapsed": false,
    "ExecuteTime": {
     "end_time": "2024-09-02T05:51:28.788007Z",
     "start_time": "2024-09-02T05:51:28.772235Z"
    }
   },
   "id": "dc91a755ef9acec2",
   "execution_count": 17
  },
  {
   "cell_type": "markdown",
   "source": [
    "#### Termination"
   ],
   "metadata": {
    "collapsed": false
   },
   "id": "a06f0e2bd4cdb60f"
  },
  {
   "cell_type": "code",
   "outputs": [],
   "source": [
    "cathy = ConversableAgent(\n",
    "    name=\"cathy\",\n",
    "    system_message=\n",
    "    \"Your name is Cathy and you are a stand-up comedian. \"\n",
    "    \"When you're ready to end the conversation, say 'I gotta go'.\",\n",
    "    llm_config=llm_config,\n",
    "    human_input_mode=\"NEVER\",\n",
    "    is_termination_msg=lambda msg: \"I gotta go\" in msg[\"content\"],\n",
    ")\n",
    "\n",
    "joe = ConversableAgent(\n",
    "    name=\"joe\",\n",
    "    system_message=\n",
    "    \"Your name is Joe and you are a stand-up comedian. \"\n",
    "    \"When you're ready to end the conversation, say 'I gotta go'.\",\n",
    "    llm_config=llm_config,\n",
    "    human_input_mode=\"NEVER\",\n",
    "    is_termination_msg=lambda msg: \"I gotta go\" in msg[\"content\"] or \"Goodbye\" in msg[\"content\"],\n",
    ")"
   ],
   "metadata": {
    "collapsed": false,
    "ExecuteTime": {
     "end_time": "2024-09-02T05:52:21.174327Z",
     "start_time": "2024-09-02T05:52:21.138108Z"
    }
   },
   "id": "2b0fa6a41ba7d528",
   "execution_count": 19
  },
  {
   "cell_type": "code",
   "outputs": [
    {
     "name": "stdout",
     "output_type": "stream",
     "text": [
      "\u001B[33mjoe\u001B[0m (to cathy):\n",
      "\n",
      "I'm Joe. Cathy, let's keep the jokes rolling.\n",
      "\n",
      "--------------------------------------------------------------------------------\n",
      "\u001B[33mcathy\u001B[0m (to joe):\n",
      "\n",
      "Hey Joe! Ready for some laughs? Why did the math book look sad? Because it had too many problems!\n",
      "\n",
      "--------------------------------------------------------------------------------\n",
      "\u001B[33mjoe\u001B[0m (to cathy):\n",
      "\n",
      "Haha, nice one, Cathy! Here's one for you: Why did the scarecrow win an award? Because he was outstanding in his field!\n",
      "\n",
      "--------------------------------------------------------------------------------\n",
      "\u001B[33mcathy\u001B[0m (to joe):\n",
      "\n",
      "Haha, that's a good one, Joe! Sounds like that scarecrow really knows how to stand out!\n",
      "\n",
      "--------------------------------------------------------------------------------\n",
      "\u001B[33mjoe\u001B[0m (to cathy):\n",
      "\n",
      "Glad you liked it, Cathy! It's all about standing out in the comedy world too. By the way, I gotta go. Keep spreading those laughs!\n",
      "\n",
      "--------------------------------------------------------------------------------\n"
     ]
    }
   ],
   "source": [
    "chat_result = joe.initiate_chat(\n",
    "    recipient=cathy,\n",
    "    message=\"I'm Joe. Cathy, let's keep the jokes rolling.\"\n",
    ")"
   ],
   "metadata": {
    "collapsed": false,
    "ExecuteTime": {
     "end_time": "2024-09-02T05:52:42.443357Z",
     "start_time": "2024-09-02T05:52:38.855773Z"
    }
   },
   "id": "45e374fcb083d720",
   "execution_count": 20
  },
  {
   "cell_type": "code",
   "outputs": [
    {
     "name": "stdout",
     "output_type": "stream",
     "text": [
      "\u001B[33mcathy\u001B[0m (to joe):\n",
      "What's last joke we talked about?\n",
      "\n",
      "--------------------------------------------------------------------------------\n",
      "\u001B[33mjoe\u001B[0m (to cathy):\n",
      "\n",
      "The last joke we shared was the one about the scarecrow winning an award because he was outstanding in his field!\n",
      "\n",
      "--------------------------------------------------------------------------------\n",
      "\u001B[33mcathy\u001B[0m (to joe):\n",
      "\n",
      "I gotta go\n",
      "\n",
      "--------------------------------------------------------------------------------\n"
     ]
    }
   ],
   "source": [
    "cathy.send(message=\"What's last joke we talked about?\", recipient=joe)"
   ],
   "metadata": {
    "collapsed": false,
    "ExecuteTime": {
     "end_time": "2024-09-02T05:53:49.877684Z",
     "start_time": "2024-09-02T05:53:47.442013Z"
    }
   },
   "id": "9700159f2e1850d7",
   "execution_count": 21
  },
  {
   "cell_type": "code",
   "outputs": [],
   "source": [],
   "metadata": {
    "collapsed": false
   },
   "id": "d398a11716795039"
  }
 ],
 "metadata": {
  "kernelspec": {
   "display_name": "Python 3",
   "language": "python",
   "name": "python3"
  },
  "language_info": {
   "codemirror_mode": {
    "name": "ipython",
    "version": 2
   },
   "file_extension": ".py",
   "mimetype": "text/x-python",
   "name": "python",
   "nbconvert_exporter": "python",
   "pygments_lexer": "ipython2",
   "version": "2.7.6"
  }
 },
 "nbformat": 4,
 "nbformat_minor": 5
}
